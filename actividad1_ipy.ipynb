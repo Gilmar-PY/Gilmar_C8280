{
  "nbformat": 4,
  "nbformat_minor": 0,
  "metadata": {
    "colab": {
      "provenance": [],
      "authorship_tag": "ABX9TyNiQrUyG32tPJQ8Iu+xAMVH",
      "include_colab_link": true
    },
    "kernelspec": {
      "name": "python3",
      "display_name": "Python 3"
    },
    "language_info": {
      "name": "python"
    }
  },
  "cells": [
    {
      "cell_type": "markdown",
      "metadata": {
        "id": "view-in-github",
        "colab_type": "text"
      },
      "source": [
        "<a href=\"https://colab.research.google.com/github/Gilmar-PY/Gilmar_C8280/blob/main/actividad1_ipy.ipynb\" target=\"_parent\"><img src=\"https://colab.research.google.com/assets/colab-badge.svg\" alt=\"Open In Colab\"/></a>"
      ]
    },
    {
      "cell_type": "markdown",
      "source": [
        "# **1. Mire en la parte superior e inferior de data.tsv entregado en esta actividad. Piensa en cómo se estructuran los datos. ¿Qué crees que significa cada columna? ¿Qué crees que significa cada fila?**"
      ],
      "metadata": {
        "id": "Qloq2O9JFhJq"
      }
    },
    {
      "cell_type": "markdown",
      "source": [
        "*Cada fila simboliza un registro de datos o una entrada específica, tales como el ID de la orden (order_id), la cantidad (quantity), el nombre del producto (item_name), la descripción de la elección (choice_description) y el precio del artículo (item_price).*\n",
        "\n",
        "*Cada columna  representa un campo de datos lo cual se utiliza para organizar y almacenar la informacion de cada fila.*"
      ],
      "metadata": {
        "id": "mHuqwLJcFzG3"
      }
    },
    {
      "cell_type": "code",
      "source": [
        "from google.colab import files\n",
        "\n",
        "# Cargamos el archivo TSV desde el disco local\n",
        "uploaded = files.upload()"
      ],
      "metadata": {
        "colab": {
          "base_uri": "https://localhost:8080/",
          "height": 73
        },
        "id": "t_wucsVNF_Ap",
        "outputId": "c6a8d8b8-4c06-46dc-d458-2ded3986ebf0"
      },
      "execution_count": 1,
      "outputs": [
        {
          "output_type": "display_data",
          "data": {
            "text/plain": [
              "<IPython.core.display.HTML object>"
            ],
            "text/html": [
              "\n",
              "     <input type=\"file\" id=\"files-d771c422-e761-4142-b38e-4cc8dd0f9088\" name=\"files[]\" multiple disabled\n",
              "        style=\"border:none\" />\n",
              "     <output id=\"result-d771c422-e761-4142-b38e-4cc8dd0f9088\">\n",
              "      Upload widget is only available when the cell has been executed in the\n",
              "      current browser session. Please rerun this cell to enable.\n",
              "      </output>\n",
              "      <script>// Copyright 2017 Google LLC\n",
              "//\n",
              "// Licensed under the Apache License, Version 2.0 (the \"License\");\n",
              "// you may not use this file except in compliance with the License.\n",
              "// You may obtain a copy of the License at\n",
              "//\n",
              "//      http://www.apache.org/licenses/LICENSE-2.0\n",
              "//\n",
              "// Unless required by applicable law or agreed to in writing, software\n",
              "// distributed under the License is distributed on an \"AS IS\" BASIS,\n",
              "// WITHOUT WARRANTIES OR CONDITIONS OF ANY KIND, either express or implied.\n",
              "// See the License for the specific language governing permissions and\n",
              "// limitations under the License.\n",
              "\n",
              "/**\n",
              " * @fileoverview Helpers for google.colab Python module.\n",
              " */\n",
              "(function(scope) {\n",
              "function span(text, styleAttributes = {}) {\n",
              "  const element = document.createElement('span');\n",
              "  element.textContent = text;\n",
              "  for (const key of Object.keys(styleAttributes)) {\n",
              "    element.style[key] = styleAttributes[key];\n",
              "  }\n",
              "  return element;\n",
              "}\n",
              "\n",
              "// Max number of bytes which will be uploaded at a time.\n",
              "const MAX_PAYLOAD_SIZE = 100 * 1024;\n",
              "\n",
              "function _uploadFiles(inputId, outputId) {\n",
              "  const steps = uploadFilesStep(inputId, outputId);\n",
              "  const outputElement = document.getElementById(outputId);\n",
              "  // Cache steps on the outputElement to make it available for the next call\n",
              "  // to uploadFilesContinue from Python.\n",
              "  outputElement.steps = steps;\n",
              "\n",
              "  return _uploadFilesContinue(outputId);\n",
              "}\n",
              "\n",
              "// This is roughly an async generator (not supported in the browser yet),\n",
              "// where there are multiple asynchronous steps and the Python side is going\n",
              "// to poll for completion of each step.\n",
              "// This uses a Promise to block the python side on completion of each step,\n",
              "// then passes the result of the previous step as the input to the next step.\n",
              "function _uploadFilesContinue(outputId) {\n",
              "  const outputElement = document.getElementById(outputId);\n",
              "  const steps = outputElement.steps;\n",
              "\n",
              "  const next = steps.next(outputElement.lastPromiseValue);\n",
              "  return Promise.resolve(next.value.promise).then((value) => {\n",
              "    // Cache the last promise value to make it available to the next\n",
              "    // step of the generator.\n",
              "    outputElement.lastPromiseValue = value;\n",
              "    return next.value.response;\n",
              "  });\n",
              "}\n",
              "\n",
              "/**\n",
              " * Generator function which is called between each async step of the upload\n",
              " * process.\n",
              " * @param {string} inputId Element ID of the input file picker element.\n",
              " * @param {string} outputId Element ID of the output display.\n",
              " * @return {!Iterable<!Object>} Iterable of next steps.\n",
              " */\n",
              "function* uploadFilesStep(inputId, outputId) {\n",
              "  const inputElement = document.getElementById(inputId);\n",
              "  inputElement.disabled = false;\n",
              "\n",
              "  const outputElement = document.getElementById(outputId);\n",
              "  outputElement.innerHTML = '';\n",
              "\n",
              "  const pickedPromise = new Promise((resolve) => {\n",
              "    inputElement.addEventListener('change', (e) => {\n",
              "      resolve(e.target.files);\n",
              "    });\n",
              "  });\n",
              "\n",
              "  const cancel = document.createElement('button');\n",
              "  inputElement.parentElement.appendChild(cancel);\n",
              "  cancel.textContent = 'Cancel upload';\n",
              "  const cancelPromise = new Promise((resolve) => {\n",
              "    cancel.onclick = () => {\n",
              "      resolve(null);\n",
              "    };\n",
              "  });\n",
              "\n",
              "  // Wait for the user to pick the files.\n",
              "  const files = yield {\n",
              "    promise: Promise.race([pickedPromise, cancelPromise]),\n",
              "    response: {\n",
              "      action: 'starting',\n",
              "    }\n",
              "  };\n",
              "\n",
              "  cancel.remove();\n",
              "\n",
              "  // Disable the input element since further picks are not allowed.\n",
              "  inputElement.disabled = true;\n",
              "\n",
              "  if (!files) {\n",
              "    return {\n",
              "      response: {\n",
              "        action: 'complete',\n",
              "      }\n",
              "    };\n",
              "  }\n",
              "\n",
              "  for (const file of files) {\n",
              "    const li = document.createElement('li');\n",
              "    li.append(span(file.name, {fontWeight: 'bold'}));\n",
              "    li.append(span(\n",
              "        `(${file.type || 'n/a'}) - ${file.size} bytes, ` +\n",
              "        `last modified: ${\n",
              "            file.lastModifiedDate ? file.lastModifiedDate.toLocaleDateString() :\n",
              "                                    'n/a'} - `));\n",
              "    const percent = span('0% done');\n",
              "    li.appendChild(percent);\n",
              "\n",
              "    outputElement.appendChild(li);\n",
              "\n",
              "    const fileDataPromise = new Promise((resolve) => {\n",
              "      const reader = new FileReader();\n",
              "      reader.onload = (e) => {\n",
              "        resolve(e.target.result);\n",
              "      };\n",
              "      reader.readAsArrayBuffer(file);\n",
              "    });\n",
              "    // Wait for the data to be ready.\n",
              "    let fileData = yield {\n",
              "      promise: fileDataPromise,\n",
              "      response: {\n",
              "        action: 'continue',\n",
              "      }\n",
              "    };\n",
              "\n",
              "    // Use a chunked sending to avoid message size limits. See b/62115660.\n",
              "    let position = 0;\n",
              "    do {\n",
              "      const length = Math.min(fileData.byteLength - position, MAX_PAYLOAD_SIZE);\n",
              "      const chunk = new Uint8Array(fileData, position, length);\n",
              "      position += length;\n",
              "\n",
              "      const base64 = btoa(String.fromCharCode.apply(null, chunk));\n",
              "      yield {\n",
              "        response: {\n",
              "          action: 'append',\n",
              "          file: file.name,\n",
              "          data: base64,\n",
              "        },\n",
              "      };\n",
              "\n",
              "      let percentDone = fileData.byteLength === 0 ?\n",
              "          100 :\n",
              "          Math.round((position / fileData.byteLength) * 100);\n",
              "      percent.textContent = `${percentDone}% done`;\n",
              "\n",
              "    } while (position < fileData.byteLength);\n",
              "  }\n",
              "\n",
              "  // All done.\n",
              "  yield {\n",
              "    response: {\n",
              "      action: 'complete',\n",
              "    }\n",
              "  };\n",
              "}\n",
              "\n",
              "scope.google = scope.google || {};\n",
              "scope.google.colab = scope.google.colab || {};\n",
              "scope.google.colab._files = {\n",
              "  _uploadFiles,\n",
              "  _uploadFilesContinue,\n",
              "};\n",
              "})(self);\n",
              "</script> "
            ]
          },
          "metadata": {}
        },
        {
          "output_type": "stream",
          "name": "stdout",
          "text": [
            "Saving data.tsv to data.tsv\n"
          ]
        }
      ]
    },
    {
      "cell_type": "markdown",
      "source": [
        "# **2. ¿Cuántos pedidos parece haber?**"
      ],
      "metadata": {
        "id": "1_WaNrqVGNOy"
      }
    },
    {
      "cell_type": "code",
      "source": [
        "import pandas as pd\n",
        "\n",
        "# Especifica el nombre del archivo TSV que se cargo en el disco local\n",
        "nom_archivo = \"data.tsv\"\n",
        "#  en esta linea se lee  el archivo TSV utilizando la biblioteca pandas\n",
        "df = pd.read_csv(nom_archivo, delimiter='\\t')\n",
        "print(df)"
      ],
      "metadata": {
        "colab": {
          "base_uri": "https://localhost:8080/"
        },
        "id": "JgR9IkJMGSdd",
        "outputId": "492ef686-ddbb-4f17-e677-61d7c9b38f11"
      },
      "execution_count": 16,
      "outputs": [
        {
          "output_type": "stream",
          "name": "stdout",
          "text": [
            "      order_id  quantity                              item_name  \\\n",
            "0            1         1           Chips and Fresh Tomato Salsa   \n",
            "1            1         1                                   Izze   \n",
            "2            1         1                       Nantucket Nectar   \n",
            "3            1         1  Chips and Tomatillo-Green Chili Salsa   \n",
            "4            2         2                           Chicken Bowl   \n",
            "...        ...       ...                                    ...   \n",
            "4617      1833         1                          Steak Burrito   \n",
            "4618      1833         1                          Steak Burrito   \n",
            "4619      1834         1                     Chicken Salad Bowl   \n",
            "4620      1834         1                     Chicken Salad Bowl   \n",
            "4621      1834         1                     Chicken Salad Bowl   \n",
            "\n",
            "                                     choice_description item_price  \n",
            "0                                                   NaN     $2.39   \n",
            "1                                          [Clementine]     $3.39   \n",
            "2                                               [Apple]     $3.39   \n",
            "3                                                   NaN     $2.39   \n",
            "4     [Tomatillo-Red Chili Salsa (Hot), [Black Beans...    $16.98   \n",
            "...                                                 ...        ...  \n",
            "4617  [Fresh Tomato Salsa, [Rice, Black Beans, Sour ...    $11.75   \n",
            "4618  [Fresh Tomato Salsa, [Rice, Sour Cream, Cheese...    $11.75   \n",
            "4619  [Fresh Tomato Salsa, [Fajita Vegetables, Pinto...    $11.25   \n",
            "4620  [Fresh Tomato Salsa, [Fajita Vegetables, Lettu...     $8.75   \n",
            "4621  [Fresh Tomato Salsa, [Fajita Vegetables, Pinto...     $8.75   \n",
            "\n",
            "[4622 rows x 5 columns]\n"
          ]
        }
      ]
    },
    {
      "cell_type": "code",
      "source": [
        "import csv\n",
        "\n",
        "def count_ids(nom_archivo):\n",
        "    # Se abre el archivo en modo lectura ('r')\n",
        "    with open(nom_archivo, 'r', newline='') as tsvfile:\n",
        "        # Se crea un objeto lector que leerá el archivo TSV fila por fila\n",
        "        reader = csv.reader(tsvfile, delimiter='\\t')\n",
        "        ids = set()  # Creamos un conjunto para almacenar los IDs únicos\n",
        "        # Recorremos cada fila en el lector\n",
        "        for fila in reader:\n",
        "            # Verificamos si la fila no está vacía\n",
        "            if len(fila) > 0:\n",
        "                # Suponemos que la ID se encuentra en la primera columna del archivo TSV\n",
        "                ids.add(fila[0])\n",
        "    # Devolvemos la cantidad de IDs únicos\n",
        "    return len(ids)\n"
      ],
      "metadata": {
        "id": "xNUh-rX3GjDw"
      },
      "execution_count": 17,
      "outputs": []
    },
    {
      "cell_type": "code",
      "source": [
        "# se  hace la llamda nuevamnete de order_ids\n",
        "count = count_ids(nom_archivo)\n",
        "print(f\"El archivo TSV posee {count} order_ids.\")"
      ],
      "metadata": {
        "colab": {
          "base_uri": "https://localhost:8080/"
        },
        "id": "WZbRqVmCGmPP",
        "outputId": "51a457d5-466c-4923-fa16-41eb68c425ea"
      },
      "execution_count": 15,
      "outputs": [
        {
          "output_type": "stream",
          "name": "stdout",
          "text": [
            "El archivo TSV posee 1835 order_ids.\n"
          ]
        }
      ]
    },
    {
      "cell_type": "markdown",
      "source": [
        "# **3. ¿Cuántas líneas hay en este archivo?**"
      ],
      "metadata": {
        "id": "GebJzgdfGr_4"
      }
    },
    {
      "cell_type": "code",
      "source": [
        "# Abrimos  el archivo TSV  que esta en modo lectura\n",
        "with open('data.tsv', 'r') as file:\n",
        "    lines = file.readlines()"
      ],
      "metadata": {
        "id": "DN_oX7MNG2ig"
      },
      "execution_count": 18,
      "outputs": []
    },
    {
      "cell_type": "code",
      "source": [
        "# se contabiliza  las lineas\n",
        "line_count = len(lines)\n",
        "print(\"cantidad de  líneas:\", line_count)"
      ],
      "metadata": {
        "colab": {
          "base_uri": "https://localhost:8080/"
        },
        "id": "KW36oedtG39H",
        "outputId": "50ed2304-1380-4125-dcd6-cfab1d3b469c"
      },
      "execution_count": 21,
      "outputs": [
        {
          "output_type": "stream",
          "name": "stdout",
          "text": [
            "cantidad de  líneas: 4624\n"
          ]
        }
      ]
    },
    {
      "cell_type": "markdown",
      "source": [
        "# **4. ¿Qué burrito es más popular, steak o chicken?**"
      ],
      "metadata": {
        "id": "KdmneAZKG_DQ"
      }
    },
    {
      "cell_type": "code",
      "source": [
        "# Filtrar los datos que contienen 'burrito' en la columna 'item_name'\n",
        "df_burrito = df[df['item_name'].str.contains('burrito', case=False)]\n",
        "# Agrupar por 'item_name' y contabilizar  la frecuencia de cada burrito\n",
        "frec_burrito = df_burrito.groupby('item_name').size()\n",
        "# Encontrar el burrito más comun\n",
        "burrito_popular = frec_burrito.idxmax()\n",
        "print(\"El burrito  popular es:\", burrito_popular)\n"
      ],
      "metadata": {
        "colab": {
          "base_uri": "https://localhost:8080/"
        },
        "id": "adTck_-XHKLw",
        "outputId": "be7bed7a-c98d-483a-ddbb-a353215d9b00"
      },
      "execution_count": 23,
      "outputs": [
        {
          "output_type": "stream",
          "name": "stdout",
          "text": [
            "El burrito  popular es: Chicken Burrito\n"
          ]
        }
      ]
    },
    {
      "cell_type": "markdown",
      "source": [
        "# **5. ¿Los burritos de pollo suelen tener frijoles negros o frijoles pintos?**"
      ],
      "metadata": {
        "id": "YdESBXIvHTOK"
      }
    },
    {
      "cell_type": "code",
      "source": [
        "# Filtrar solamente las filas que contienen \"Chicken Burrito\" en la columna \"item_name\"\n",
        "df_burritos_pollo = df[df['item_name'].str.contains('Chicken Burrito', case=False)]\n",
        "\n",
        "# Calcular la frecuencia de \"Black Beans\" y \"Pinto Beans\" en la columna \"choice_description\"\n",
        "num_frijoles_negros = df_burritos_pollo['choice_description'].str.contains('Black Beans', case=False).sum()\n",
        "num_frijoles_pintos = df_burritos_pollo['choice_description'].str.contains('Pinto Beans', case=False).sum()\n",
        "\n",
        "# Imprimir la frecuencia de los tipos de frijoles\n",
        "print(\"Número de burritos con frijoles negros:\", num_frijoles_negros)\n",
        "print(\"Número de burritos con frijoles pintos:\", num_frijoles_pintos)\n"
      ],
      "metadata": {
        "colab": {
          "base_uri": "https://localhost:8080/"
        },
        "id": "8FtBPHu2HaSz",
        "outputId": "8ad851f5-6319-426d-bd16-36aae5dba769"
      },
      "execution_count": 25,
      "outputs": [
        {
          "output_type": "stream",
          "name": "stdout",
          "text": [
            "Frecuencia de frijoles negros: 282\n",
            "Frecuencia de frijoles pintos: 105\n"
          ]
        }
      ]
    },
    {
      "cell_type": "markdown",
      "source": [
        "# **6. Usa la línea de comandos para descubrir algo interesante sobre los datos dados.**"
      ],
      "metadata": {
        "id": "T7-DaQ5xHh-S"
      }
    },
    {
      "cell_type": "code",
      "source": [
        "# Creación de un diccionario a partir de las columnas 'item_name' y 'item_price'\n",
        "diccionario_precios = df.set_index('item_name')['item_price'].to_dict()\n",
        "# Muestra las salidas\n",
        "for nombre_item, precio_item in diccionario_precios.items():\n",
        "    print(f\"El precio de {nombre_item} es: {precio_item}\")"
      ],
      "metadata": {
        "colab": {
          "base_uri": "https://localhost:8080/"
        },
        "id": "d6Hx68mgHktC",
        "outputId": "1e846961-b74d-43c8-836e-a015f10960b5"
      },
      "execution_count": 24,
      "outputs": [
        {
          "output_type": "stream",
          "name": "stdout",
          "text": [
            "El precio de Chips and Fresh Tomato Salsa es: $2.95 \n",
            "El precio de Izze es: $3.39 \n",
            "El precio de Nantucket Nectar es: $3.39 \n",
            "El precio de Chips and Tomatillo-Green Chili Salsa es: $2.39 \n",
            "El precio de Chicken Bowl es: $8.75 \n",
            "El precio de Side of Chips es: $1.69 \n",
            "El precio de Steak Burrito es: $11.75 \n",
            "El precio de Steak Soft Tacos es: $9.25 \n",
            "El precio de Chips and Guacamole es: $4.45 \n",
            "El precio de Chicken Crispy Tacos es: $8.75 \n",
            "El precio de Chicken Soft Tacos es: $8.75 \n",
            "El precio de Chicken Burrito es: $8.75 \n",
            "El precio de Canned Soda es: $1.09 \n",
            "El precio de Barbacoa Burrito es: $9.25 \n",
            "El precio de Carnitas Burrito es: $9.25 \n",
            "El precio de Carnitas Bowl es: $9.25 \n",
            "El precio de Bottled Water es: $1.50 \n",
            "El precio de Chips and Tomatillo Green Chili Salsa es: $2.95 \n",
            "El precio de Barbacoa Bowl es: $11.75 \n",
            "El precio de Chips es: $2.15 \n",
            "El precio de Chicken Salad Bowl es: $8.75 \n",
            "El precio de Steak Bowl es: $11.75 \n",
            "El precio de Barbacoa Soft Tacos es: $9.25 \n",
            "El precio de Veggie Burrito es: $11.25 \n",
            "El precio de Veggie Bowl es: $11.25 \n",
            "El precio de Steak Crispy Tacos es: $11.75 \n",
            "El precio de Chips and Tomatillo Red Chili Salsa es: $2.95 \n",
            "El precio de Barbacoa Crispy Tacos es: $8.99 \n",
            "El precio de Veggie Salad Bowl es: $8.75 \n",
            "El precio de Chips and Roasted Chili-Corn Salsa es: $2.39 \n",
            "El precio de Chips and Roasted Chili Corn Salsa es: $2.95 \n",
            "El precio de Carnitas Soft Tacos es: $9.25 \n",
            "El precio de Chicken Salad es: $8.19 \n",
            "El precio de Canned Soft Drink es: $1.25 \n",
            "El precio de Steak Salad Bowl es: $9.39 \n",
            "El precio de 6 Pack Soft Drink es: $6.49 \n",
            "El precio de Chips and Tomatillo-Red Chili Salsa es: $2.39 \n",
            "El precio de Bowl es: $7.40 \n",
            "El precio de Burrito es: $7.40 \n",
            "El precio de Crispy Tacos es: $7.40 \n",
            "El precio de Carnitas Crispy Tacos es: $9.25 \n",
            "El precio de Steak Salad es: $8.69 \n",
            "El precio de Chips and Mild Fresh Tomato Salsa es: $3.00 \n",
            "El precio de Veggie Soft Tacos es: $16.98 \n",
            "El precio de Carnitas Salad Bowl es: $11.89 \n",
            "El precio de Barbacoa Salad Bowl es: $9.39 \n",
            "El precio de Salad es: $7.40 \n",
            "El precio de Veggie Crispy Tacos es: $8.49 \n",
            "El precio de Veggie Salad es: $8.49 \n",
            "El precio de Carnitas Salad es: $8.99 \n"
          ]
        }
      ]
    }
  ]
}