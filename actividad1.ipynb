{
  "nbformat": 4,
  "nbformat_minor": 0,
  "metadata": {
    "colab": {
      "provenance": [],
      "authorship_tag": "ABX9TyMn7iSuoGQuhr507o2TqfdG",
      "include_colab_link": true
    },
    "kernelspec": {
      "name": "python3",
      "display_name": "Python 3"
    },
    "language_info": {
      "name": "python"
    }
  },
  "cells": [
    {
      "cell_type": "markdown",
      "metadata": {
        "id": "view-in-github",
        "colab_type": "text"
      },
      "source": [
        "<a href=\"https://colab.research.google.com/github/Gilmar-PY/Gilmar_C8280/blob/main/actividad1.ipynb\" target=\"_parent\"><img src=\"https://colab.research.google.com/assets/colab-badge.svg\" alt=\"Open In Colab\"/></a>"
      ]
    },
    {
      "cell_type": "markdown",
      "source": [
        "# **1. Mire en la parte superior e inferior de data.tsv entregado en esta actividad. Piensa en cómo se estructuran los datos. ¿Qué crees que significa cada columna? ¿Qué crees que significa cada fila?**"
      ],
      "metadata": {
        "id": "Qloq2O9JFhJq"
      }
    },
    {
      "cell_type": "markdown",
      "source": [
        "*Cada fila simboliza un registro de datos o una entrada específica, tales como el ID de la orden (order_id), la cantidad (quantity), el nombre del producto (item_name), la descripción de la elección (choice_description) y el precio del artículo (item_price).*\n",
        "\n",
        "*Cada columna  representa un campo de datos lo cual se utiliza para organizar y almacenar la informacion de cada fila.*"
      ],
      "metadata": {
        "id": "mHuqwLJcFzG3"
      }
    },
    {
      "cell_type": "code",
      "source": [
        "from google.colab import files\n",
        "\n",
        "# Cargamos el archivo TSV desde el disco local\n",
        "uploaded = files.upload()"
      ],
      "metadata": {
        "id": "t_wucsVNF_Ap"
      },
      "execution_count": null,
      "outputs": []
    },
    {
      "cell_type": "markdown",
      "source": [
        "# **2. ¿Cuántos pedidos parece haber?**"
      ],
      "metadata": {
        "id": "1_WaNrqVGNOy"
      }
    },
    {
      "cell_type": "code",
      "source": [
        "import pandas as pd\n",
        "\n",
        "# Especifica el nombre del archivo TSV que se cargo en el disco local\n",
        "nom_archivo = \"data.tsv.txt\"\n",
        "#  en esta linea se lee  el archivo TSV utilizando la biblioteca pandas\n",
        "df = pd.read_csv(nom_archivo, delimiter='\\t')\n",
        "print(df)"
      ],
      "metadata": {
        "id": "JgR9IkJMGSdd"
      },
      "execution_count": null,
      "outputs": []
    },
    {
      "cell_type": "code",
      "source": [
        "import csv\n",
        "# se crea la funcion para contabilizar  el numero de pedidos\n",
        "def count_ids(nom_archivo):\n",
        "    with open(nombre_archivo, 'r', newline='') as tsvfile:\n",
        "        reader = csv.reader(tsvfile, delimiter='\\t')\n",
        "        ids = set()  # se evita los  duplicadas\n",
        "        for fila in reader:\n",
        "            if len(fila) > 0:\n",
        "              # Supongmos que la ID se encuentra en la primera columna del archivo TSV\n",
        "                ids.add(fila[0])\n",
        "    return len(ids)"
      ],
      "metadata": {
        "id": "xNUh-rX3GjDw"
      },
      "execution_count": null,
      "outputs": []
    },
    {
      "cell_type": "code",
      "source": [
        "# se  hace la llamda nuevamnete de order_ids\n",
        "count = count_ids(nom_archivo)\n",
        "print(f\"El archivo TSV posee {count} order_ids.\")"
      ],
      "metadata": {
        "id": "WZbRqVmCGmPP"
      },
      "execution_count": null,
      "outputs": []
    },
    {
      "cell_type": "markdown",
      "source": [
        "# **3. ¿Cuántas líneas hay en este archivo?**"
      ],
      "metadata": {
        "id": "GebJzgdfGr_4"
      }
    },
    {
      "cell_type": "code",
      "source": [
        "# Abrimos  el archivo TSV  que esta en modo lectura\n",
        "with open('data.tsv.txt', 'r') as file:\n",
        "    lines = file.readlines()"
      ],
      "metadata": {
        "id": "DN_oX7MNG2ig"
      },
      "execution_count": null,
      "outputs": []
    },
    {
      "cell_type": "code",
      "source": [
        "# se contabiliza  las lineas\n",
        "line_count = len(lines)\n",
        "print(\"Número de líneas:\", line_count)"
      ],
      "metadata": {
        "id": "KW36oedtG39H"
      },
      "execution_count": null,
      "outputs": []
    },
    {
      "cell_type": "markdown",
      "source": [
        "# **4. ¿Qué burrito es más popular, steak o chicken?**"
      ],
      "metadata": {
        "id": "KdmneAZKG_DQ"
      }
    },
    {
      "cell_type": "code",
      "source": [
        "# se contabiliza la palbra burrito \"burrito\" lo cual esta en la columna \"item_name\"\n",
        "burrito_df = df[df['item_name'].str.contains('burrito', case=False)]\n",
        "# Contar el numero de frecuencia de cada burrito\n",
        "popular_burrito = burrito_df['item_name'].value_counts().idxmax()\n",
        "# se obtiene el  burrito más popular\n",
        "print(\"El burrito más popular es:\", popular_burrito)"
      ],
      "metadata": {
        "id": "adTck_-XHKLw"
      },
      "execution_count": null,
      "outputs": []
    },
    {
      "cell_type": "markdown",
      "source": [
        "# **5. ¿Los burritos de pollo suelen tener frijoles negros o frijoles pintos?**"
      ],
      "metadata": {
        "id": "YdESBXIvHTOK"
      }
    },
    {
      "cell_type": "code",
      "source": [
        "# Filtrar solamente  filas donde se encuentra \"chicken burrito\" en la columna \"item_name\"\n",
        "burritos__pollo = df[df['item_name'].str.contains('Chicken Burrito', case=False)]\n",
        "\n",
        "# Filtrar solamente  filas donde se encuentra \"frijoles negros\" en la columna \"choice_description\"\n",
        "frijoles_negros = burritos__pollo['choice_description'].str.contains('Black Beans', case=False)\n",
        "\n",
        "# Filtrar solamente  filas que contienen \"frijoles pintos\" en la columna \"choice_description\"\n",
        "frijoles_pintos = burritos__pollo['choice_description'].str.contains('Pinto Beans', case=False)\n",
        "\n",
        "# se obtiene la  salidas de la frecuencia de los tipos de frijoles\n",
        "freq_frijoles_negros = len(frijoles_negros)\n",
        "freq_frijoles_pintos = len(frijoles_pintos)\n",
        "print(\"numero_Frecuencia  frijoles negros:\", freq_frijoles_negros)\n",
        "print(\"numero_Frecuencia  frijoles pintos:\",freq_frijoles_pintos )"
      ],
      "metadata": {
        "id": "8FtBPHu2HaSz"
      },
      "execution_count": null,
      "outputs": []
    },
    {
      "cell_type": "markdown",
      "source": [
        "# **6. Usa la línea de comandos para descubrir algo interesante sobre los datos dados.**"
      ],
      "metadata": {
        "id": "T7-DaQ5xHh-S"
      }
    },
    {
      "cell_type": "code",
      "source": [
        "# Creacion un diccionario para almacenar los precios  ítem\n",
        "item_price = {}\n",
        "# aqui realiza las Iteraciones  sobre cada fila del DataFrame\n",
        "for index, fila in df.iterrows():\n",
        "    item_name = fila['item_name']\n",
        "    item_prices = fila['item_price']\n",
        "    item_price[item_name] = item_prices\n",
        "\n",
        "# su muestra las salidas\n",
        "for item_name, item_price in item_price.items():\n",
        "    print(f\"El precio de {item_name} es: {item_price}\")"
      ],
      "metadata": {
        "id": "d6Hx68mgHktC"
      },
      "execution_count": null,
      "outputs": []
    }
  ]
}